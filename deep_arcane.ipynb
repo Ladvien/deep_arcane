{
  "nbformat": 4,
  "nbformat_minor": 0,
  "metadata": {
    "accelerator": "GPU",
    "colab": {
      "name": "deep_arcane.ipynb",
      "provenance": [],
      "collapsed_sections": [],
      "include_colab_link": true
    },
    "kernelspec": {
      "display_name": "Python 3",
      "name": "python3"
    }
  },
  "cells": [
    {
      "cell_type": "markdown",
      "metadata": {
        "id": "view-in-github",
        "colab_type": "text"
      },
      "source": [
        "<a href=\"https://colab.research.google.com/github/Ladvien/deep_arcane/blob/main/deep_arcane.ipynb\" target=\"_parent\"><img src=\"https://colab.research.google.com/assets/colab-badge.svg\" alt=\"Open In Colab\"/></a>"
      ]
    },
    {
      "cell_type": "markdown",
      "metadata": {
        "id": "70xDz2-Q8wRM"
      },
      "source": [
        "## Data Setup"
      ]
    },
    {
      "cell_type": "code",
      "metadata": {
        "id": "G7G6hjHi8XmC",
        "colab": {
          "base_uri": "https://localhost:8080/"
        },
        "outputId": "a12354cd-e139-4d40-ecce-725d317070a8"
      },
      "source": [
        "# Mount Google Drive.\n",
        "from google.colab import drive\n",
        "drive.mount('/content/gdrive')"
      ],
      "execution_count": 1,
      "outputs": [
        {
          "output_type": "stream",
          "text": [
            "Mounted at /content/gdrive\n"
          ],
          "name": "stdout"
        }
      ]
    },
    {
      "cell_type": "code",
      "metadata": {
        "id": "jq1kxYbLv-Ex",
        "colab": {
          "base_uri": "https://localhost:8080/"
        },
        "outputId": "0a2d2dae-7aa5-47ce-dce3-e0603c1bde68"
      },
      "source": [
        "# Install Weights and Biases for experiment tracking.  \n",
        "!pip install wandb"
      ],
      "execution_count": 2,
      "outputs": [
        {
          "output_type": "stream",
          "text": [
            "Collecting wandb\n",
            "\u001b[?25l  Downloading https://files.pythonhosted.org/packages/ca/5e/9df94df3bfee51b92b54a5e6fa277d6e1fcdf1f27b1872214b98f55ec0f7/wandb-0.10.12-py2.py3-none-any.whl (1.8MB)\n",
            "\u001b[K     |████████████████████████████████| 1.8MB 5.1MB/s \n",
            "\u001b[?25hCollecting subprocess32>=3.5.3\n",
            "\u001b[?25l  Downloading https://files.pythonhosted.org/packages/32/c8/564be4d12629b912ea431f1a50eb8b3b9d00f1a0b1ceff17f266be190007/subprocess32-3.5.4.tar.gz (97kB)\n",
            "\u001b[K     |████████████████████████████████| 102kB 9.5MB/s \n",
            "\u001b[?25hCollecting GitPython>=1.0.0\n",
            "\u001b[?25l  Downloading https://files.pythonhosted.org/packages/24/d1/a7f8fe3df258549b303415157328bfcc63e9b11d06a7ad7a3327f3d32606/GitPython-3.1.11-py3-none-any.whl (159kB)\n",
            "\u001b[K     |████████████████████████████████| 163kB 16.6MB/s \n",
            "\u001b[?25hCollecting sentry-sdk>=0.4.0\n",
            "\u001b[?25l  Downloading https://files.pythonhosted.org/packages/b1/5c/018bf9a5c24343a664deaea70e61f33f53bb1bd3caf193110f827bfd07e2/sentry_sdk-0.19.5-py2.py3-none-any.whl (128kB)\n",
            "\u001b[K     |████████████████████████████████| 133kB 15.6MB/s \n",
            "\u001b[?25hCollecting watchdog>=0.8.3\n",
            "\u001b[?25l  Downloading https://files.pythonhosted.org/packages/83/d9/3d1f46b428fd7b646725896b58d2eddb84f79fd76912773e6193cf74263d/watchdog-1.0.2-py3-none-manylinux2014_x86_64.whl (72kB)\n",
            "\u001b[K     |████████████████████████████████| 81kB 8.5MB/s \n",
            "\u001b[?25hCollecting docker-pycreds>=0.4.0\n",
            "  Downloading https://files.pythonhosted.org/packages/f5/e8/f6bd1eee09314e7e6dee49cbe2c5e22314ccdb38db16c9fc72d2fa80d054/docker_pycreds-0.4.0-py2.py3-none-any.whl\n",
            "Collecting configparser>=3.8.1\n",
            "  Downloading https://files.pythonhosted.org/packages/08/b2/ef713e0e67f6e7ec7d59aea3ee78d05b39c15930057e724cc6d362a8c3bb/configparser-5.0.1-py3-none-any.whl\n",
            "Requirement already satisfied: protobuf>=3.12.0 in /usr/local/lib/python3.6/dist-packages (from wandb) (3.12.4)\n",
            "Requirement already satisfied: psutil>=5.0.0 in /usr/local/lib/python3.6/dist-packages (from wandb) (5.4.8)\n",
            "Requirement already satisfied: Click>=7.0 in /usr/local/lib/python3.6/dist-packages (from wandb) (7.1.2)\n",
            "Requirement already satisfied: PyYAML in /usr/local/lib/python3.6/dist-packages (from wandb) (3.13)\n",
            "Requirement already satisfied: promise<3,>=2.0 in /usr/local/lib/python3.6/dist-packages (from wandb) (2.3)\n",
            "Requirement already satisfied: six>=1.13.0 in /usr/local/lib/python3.6/dist-packages (from wandb) (1.15.0)\n",
            "Requirement already satisfied: requests<3,>=2.0.0 in /usr/local/lib/python3.6/dist-packages (from wandb) (2.23.0)\n",
            "Collecting shortuuid>=0.5.0\n",
            "  Downloading https://files.pythonhosted.org/packages/25/a6/2ecc1daa6a304e7f1b216f0896b26156b78e7c38e1211e9b798b4716c53d/shortuuid-1.0.1-py3-none-any.whl\n",
            "Requirement already satisfied: python-dateutil>=2.6.1 in /usr/local/lib/python3.6/dist-packages (from wandb) (2.8.1)\n",
            "Collecting gitdb<5,>=4.0.1\n",
            "\u001b[?25l  Downloading https://files.pythonhosted.org/packages/48/11/d1800bca0a3bae820b84b7d813ad1eff15a48a64caea9c823fc8c1b119e8/gitdb-4.0.5-py3-none-any.whl (63kB)\n",
            "\u001b[K     |████████████████████████████████| 71kB 9.0MB/s \n",
            "\u001b[?25hRequirement already satisfied: certifi in /usr/local/lib/python3.6/dist-packages (from sentry-sdk>=0.4.0->wandb) (2020.12.5)\n",
            "Requirement already satisfied: urllib3>=1.10.0 in /usr/local/lib/python3.6/dist-packages (from sentry-sdk>=0.4.0->wandb) (1.24.3)\n",
            "Requirement already satisfied: setuptools in /usr/local/lib/python3.6/dist-packages (from protobuf>=3.12.0->wandb) (51.0.0)\n",
            "Requirement already satisfied: chardet<4,>=3.0.2 in /usr/local/lib/python3.6/dist-packages (from requests<3,>=2.0.0->wandb) (3.0.4)\n",
            "Requirement already satisfied: idna<3,>=2.5 in /usr/local/lib/python3.6/dist-packages (from requests<3,>=2.0.0->wandb) (2.10)\n",
            "Collecting smmap<4,>=3.0.1\n",
            "  Downloading https://files.pythonhosted.org/packages/b0/9a/4d409a6234eb940e6a78dfdfc66156e7522262f5f2fecca07dc55915952d/smmap-3.0.4-py2.py3-none-any.whl\n",
            "Building wheels for collected packages: subprocess32\n",
            "  Building wheel for subprocess32 (setup.py) ... \u001b[?25l\u001b[?25hdone\n",
            "  Created wheel for subprocess32: filename=subprocess32-3.5.4-cp36-none-any.whl size=6490 sha256=f1a8b3bab93c4925e1be6d495af00899fa2dfdcb12385b9452298c5f5d00e571\n",
            "  Stored in directory: /root/.cache/pip/wheels/68/39/1a/5e402bdfdf004af1786c8b853fd92f8c4a04f22aad179654d1\n",
            "Successfully built subprocess32\n",
            "Installing collected packages: subprocess32, smmap, gitdb, GitPython, sentry-sdk, watchdog, docker-pycreds, configparser, shortuuid, wandb\n",
            "Successfully installed GitPython-3.1.11 configparser-5.0.1 docker-pycreds-0.4.0 gitdb-4.0.5 sentry-sdk-0.19.5 shortuuid-1.0.1 smmap-3.0.4 subprocess32-3.5.4 wandb-0.10.12 watchdog-1.0.2\n"
          ],
          "name": "stdout"
        }
      ]
    },
    {
      "cell_type": "code",
      "metadata": {
        "id": "o_-njGCCHF_a"
      },
      "source": [
        "# Setup data directory.\n",
        "!mkdir -p \"/content/data/clean_bold_magic_symbols/\"\n",
        "!mkdir \"/content/output/\"\n",
        "\n",
        "# You will need to upload your data file manually Google Drive.\n",
        "!tar -xf  '/content/gdrive/MyDrive/datasets/clean_bold_magic_symbols.tar.gz' -C '/content/data/clean_bold_magic_symbols/'"
      ],
      "execution_count": 3,
      "outputs": []
    },
    {
      "cell_type": "code",
      "metadata": {
        "id": "ufQBSHTXG82G",
        "colab": {
          "base_uri": "https://localhost:8080/"
        },
        "outputId": "bd17ed60-57b6-4835-be51-155c5f20437e"
      },
      "source": [
        "from __future__ import print_function\n",
        "#%matplotlib inlinea\n",
        "\n",
        "import os\n",
        "\n",
        "# Usual Suspects.\n",
        "import numpy as np\n",
        "import random\n",
        "\n",
        "# PyTorch\n",
        "import torch\n",
        "import torch.nn as nn\n",
        "import torch.nn.parallel\n",
        "import torch.optim as optim\n",
        "import torch.utils.data\n",
        "import torchvision.datasets as dset\n",
        "import torchvision.transforms as transforms\n",
        "import torchvision.utils as vutils\n",
        "\n",
        "# Image Visualization.\n",
        "from PIL import Image\n",
        "from PIL import ImageEnhance\n",
        "\n",
        "import matplotlib.pyplot as plt\n",
        "import matplotlib.animation as animation\n",
        "from mpl_toolkits.axes_grid1 import ImageGrid\n",
        "\n",
        "# Experiment tracking.\n",
        "import wandb\n",
        "\n",
        "# Set random seed for reproducibility\n",
        "manualSeed = 42\n",
        "print(\"Random Seed: \", manualSeed)\n",
        "random.seed(manualSeed)\n",
        "torch.manual_seed(manualSeed)"
      ],
      "execution_count": 4,
      "outputs": [
        {
          "output_type": "stream",
          "text": [
            "Random Seed:  42\n"
          ],
          "name": "stdout"
        },
        {
          "output_type": "execute_result",
          "data": {
            "text/plain": [
              "<torch._C.Generator at 0x7ffbab3e5c18>"
            ]
          },
          "metadata": {
            "tags": []
          },
          "execution_count": 4
        }
      ]
    },
    {
      "cell_type": "markdown",
      "metadata": {
        "id": "4ozBIennHMOi"
      },
      "source": [
        "\n",
        "## Parameters"
      ]
    },
    {
      "cell_type": "code",
      "metadata": {
        "id": "9oITYUcGHC_2"
      },
      "source": [
        "# Root directory for dataset\n",
        "dataroot = f\"{os.getcwd()}/data/\"\n",
        "output_folder = f\"{os.getcwd()}/output/\"\n",
        "\n",
        "# Where to save models.\n",
        "g_drive_models_dir = \"dl_models/deep_arcane/\"\n",
        "\n",
        "# Model to load.\n",
        "RESUME_ID = \"3ewmebh2\"\n",
        "MODEL_DIR = \"/content/gdrive/MyDrive/dl_models/deep_arcane_models/\"\n",
        "\n",
        "# Number of WORKERS for dataloader\n",
        "WORKERS = 2\n",
        "\n",
        "# Number of training epochs\n",
        "EPOCHS = 6000\n",
        "starting_epoch = 0\n",
        "\n",
        "# Epoch to begin checking if we reached a new low loss.\n",
        "EPOCH_TO_START_SAVING = 5\n",
        "\n",
        "# Batch size during training\n",
        "BATCH_SIZE = 32\n",
        "\n",
        "# Spatial size of training images. All images will be resized to this\n",
        "#   size using a transformer.\n",
        "IMAGE_SIZE = 128\n",
        "\n",
        "# Number of channels in the training images. For color images this is 3\n",
        "NC = 1\n",
        "\n",
        "# Size of z latent vector (i.e. size of generator input)\n",
        "NZ = 25\n",
        "\n",
        "# Size of feature maps in generator\n",
        "NGF = 300\n",
        "\n",
        "# Size of feature maps in discriminator\n",
        "NDF = 300\n",
        "\n",
        "# Learning rate for optimizers\n",
        "lr = 0.0002\n",
        "\n",
        "# Beta1 hyperparam for Adam optimizers\n",
        "beta1 = 0.5\n",
        "\n",
        "G_DROPOUT = 0.00\n",
        "D_DROPOUT = 0.00\n",
        "\n",
        "# Labels\n",
        "real_range = (0.97, 0.95)\n",
        "fake_range = (0.0, 0.0)\n",
        "\n",
        "sample_every = 4\n",
        "samples = 16\n",
        "\n",
        "# How many epochs run before saving model\n",
        "save_every = 20\n",
        "\n",
        "# Image transformations.\n",
        "convert_to_grayscale = True\n",
        "resize_images = True\n",
        "crop_images = True\n",
        "random_rotation_degrees = (-0, 0)\n",
        "\n",
        "\n",
        "# Number of GPUs available. Use 0 for CPU mode.\n",
        "ngpu = 1\n",
        "\n",
        "id = wandb.util.generate_id()\n",
        "\n",
        "experiment_settings = {\n",
        "    \"wandb_run_id\": id,\n",
        "    \"dataroot\": dataroot,\n",
        "    \"WORKERS\": WORKERS,\n",
        "    \"BATCH_SIZE\": BATCH_SIZE,\n",
        "    \"IMAGE_SIZE\":IMAGE_SIZE,\n",
        "    \"NC\":NC,\n",
        "    \"NZ\":NZ,\n",
        "    \"NGF\":NGF,\n",
        "    \"NDF\":NDF,\n",
        "    \"EPOCHS\":EPOCHS,\n",
        "    \"lr\":lr,\n",
        "    \"beta1\":beta1,\n",
        "    \"G_DROPOUT\":G_DROPOUT,\n",
        "    \"D_DROPOUT\":D_DROPOUT,\n",
        "    \"real_range\":real_range,\n",
        "    \"fake_range\":fake_range,\n",
        "    \"ngpu\":ngpu,\n",
        "    \"convert_to_grayscale\": convert_to_grayscale,\n",
        "    \"resize_images\": resize_images,\n",
        "    \"crop_images\": crop_images,\n",
        "    \"random_rotation_degrees\": random_rotation_degrees\n",
        "}"
      ],
      "execution_count": 5,
      "outputs": []
    },
    {
      "cell_type": "code",
      "metadata": {
        "id": "DKsVXP8TYiyY",
        "colab": {
          "base_uri": "https://localhost:8080/",
          "height": 153
        },
        "outputId": "86cd52c6-c9af-4a73-ad56-d03af2b7b157"
      },
      "source": [
        "# Initialze Weights and Biases.  You'll need account.\n",
        "if RESUME_ID != \"\":\n",
        "    wandb.init(id=RESUME_ID, config=experiment_settings, project=\"deep-arcane\", resume=\"allow\")\n",
        "else:\n",
        "    wandb.init(config=experiment_settings, project=\"deep-arcane\", resume=\"allow\")\n",
        "\n",
        "model_path = f\"/content/gdrive/MyDrive/dl_models/deep_arcane_models/{wandb.run.id}/\""
      ],
      "execution_count": 6,
      "outputs": [
        {
          "output_type": "display_data",
          "data": {
            "application/javascript": [
              "\n",
              "        window._wandbApiKey = new Promise((resolve, reject) => {\n",
              "            function loadScript(url) {\n",
              "            return new Promise(function(resolve, reject) {\n",
              "                let newScript = document.createElement(\"script\");\n",
              "                newScript.onerror = reject;\n",
              "                newScript.onload = resolve;\n",
              "                document.body.appendChild(newScript);\n",
              "                newScript.src = url;\n",
              "            });\n",
              "            }\n",
              "            loadScript(\"https://cdn.jsdelivr.net/npm/postmate/build/postmate.min.js\").then(() => {\n",
              "            const iframe = document.createElement('iframe')\n",
              "            iframe.style.cssText = \"width:0;height:0;border:none\"\n",
              "            document.body.appendChild(iframe)\n",
              "            const handshake = new Postmate({\n",
              "                container: iframe,\n",
              "                url: 'https://wandb.ai/authorize'\n",
              "            });\n",
              "            const timeout = setTimeout(() => reject(\"Couldn't auto authenticate\"), 5000)\n",
              "            handshake.then(function(child) {\n",
              "                child.on('authorize', data => {\n",
              "                    clearTimeout(timeout)\n",
              "                    resolve(data)\n",
              "                });\n",
              "            });\n",
              "            })\n",
              "        });\n",
              "    "
            ],
            "text/plain": [
              "<IPython.core.display.Javascript object>"
            ]
          },
          "metadata": {
            "tags": []
          }
        },
        {
          "output_type": "stream",
          "text": [
            "\u001b[34m\u001b[1mwandb\u001b[0m: Appending key for api.wandb.ai to your netrc file: /root/.netrc\n"
          ],
          "name": "stderr"
        },
        {
          "output_type": "display_data",
          "data": {
            "text/html": [
              "\n",
              "                Tracking run with wandb version 0.10.12<br/>\n",
              "                Resuming run <strong style=\"color:#cdcd00\">lemon-night-199</strong> to <a href=\"https://wandb.ai\" target=\"_blank\">Weights & Biases</a> <a href=\"https://docs.wandb.com/integrations/jupyter.html\" target=\"_blank\">(Documentation)</a>.<br/>\n",
              "                Project page: <a href=\"https://wandb.ai/ladvien/deep-arcane\" target=\"_blank\">https://wandb.ai/ladvien/deep-arcane</a><br/>\n",
              "                Run page: <a href=\"https://wandb.ai/ladvien/deep-arcane/runs/3ewmebh2\" target=\"_blank\">https://wandb.ai/ladvien/deep-arcane/runs/3ewmebh2</a><br/>\n",
              "                Run data is saved locally in <code>/content/wandb/run-20201226_020410-3ewmebh2</code><br/><br/>\n",
              "            "
            ],
            "text/plain": [
              "<IPython.core.display.HTML object>"
            ]
          },
          "metadata": {
            "tags": []
          }
        }
      ]
    },
    {
      "cell_type": "code",
      "metadata": {
        "id": "2BhJWfIRdNmh",
        "colab": {
          "base_uri": "https://localhost:8080/",
          "height": 248
        },
        "outputId": "aa5061b0-94b2-4c8b-f4a5-8f8ebeb193a6"
      },
      "source": [
        "sample_image_path = \"/content/data/clean_bold_magic_symbols/2.png\"\n",
        "\n",
        "def add_margins(image, image_size, random_rotation_degrees, color = (255, 255, 255)):\n",
        "  \n",
        "  # Get margin size.\n",
        "  margin = image_size\n",
        "\n",
        "  # Rotation\n",
        "  rotation = random.randint(random_rotation_degrees[0], random_rotation_degrees[1])\n",
        "\n",
        "  # Create a bigger image.\n",
        "  tmp_img = Image.new(\"RGB\", \n",
        "                      (image_size + margin, image_size + margin), \n",
        "                      color = color\n",
        "  )\n",
        "\n",
        "  # Paste the old image in the center\n",
        "  cords = (\n",
        "           round((tmp_img.size[0]-image.size[0])/2),\n",
        "           round((tmp_img.size[1]-image.size[1])/2)\n",
        "  )\n",
        "  tmp_img.paste(image, cords)\n",
        "\n",
        "  # Rotate the image.\n",
        "  tmp_img = tmp_img.rotate(rotation)\n",
        "\n",
        "  # Crop the image.\n",
        "  crop_quarter_size = round(image_size / 2)\n",
        "  crop_dims = (crop_quarter_size, \n",
        "               crop_quarter_size, \n",
        "               tmp_img.size[0] - crop_quarter_size, # Width - margin.\n",
        "               tmp_img.size[1] - crop_quarter_size) # Height - margin\n",
        "  tmp_img = tmp_img.crop(crop_dims)\n",
        "\n",
        "  # Sharp\n",
        "  factor = 50\n",
        "  tmp_img = ImageEnhance.Sharpness(tmp_img).enhance(factor)\n",
        "  \n",
        "  if len(color) > 1:\n",
        "    tmp_img = tmp_img.convert(\"1\")\n",
        "\n",
        "  return tmp_img\n",
        "\n",
        "img = Image.open(sample_image_path)\n",
        "img = add_margins(img, 128, random_rotation_degrees)\n",
        "\n",
        "plt.imshow(img)\n",
        "plt.axis(\"off\")\n",
        "plt.show()\n",
        "\n",
        "def image_loader(path):\n",
        "  image = Image.open(path)\n",
        "  image = add_margins(image, IMAGE_SIZE, random_rotation_degrees)\n",
        "  return image\n",
        "\n",
        "def save_model(path, netG, netD, optimizerG, optimizerD, EPOCHS, criterion):\n",
        "  try:\n",
        "    os.mkdir(path)\n",
        "  except:\n",
        "    print(\"Folder exists\")\n",
        "\n",
        "  model_file_path = path + f\"deep_arcane.model\"\n",
        "\n",
        "  # Save Model\n",
        "  torch.save(\n",
        "      {\n",
        "        \"generator\": netG.state_dict(),\n",
        "        \"discriminator\": netD.state_dict(),\n",
        "        \"generator_optimizer\": optimizerG.state_dict(),\n",
        "        \"discriminator_optimizer\": optimizerD.state_dict(),\n",
        "        \"epoch\": EPOCHS,\n",
        "        \"loss\": criterion,\n",
        "      }, model_file_path\n",
        "  )"
      ],
      "execution_count": 7,
      "outputs": [
        {
          "output_type": "display_data",
          "data": {
            "image/png": "[encoded data removed]",
            "text/plain": [
              "<Figure size 432x288 with 1 Axes>"
            ]
          },
          "metadata": {
            "tags": [],
            "needs_background": "light"
          }
        }
      ]
    },
    {
      "cell_type": "markdown",
      "metadata": {
        "id": "L5SAT1OBTzBT"
      },
      "source": [
        "## Settings"
      ]
    },
    {
      "cell_type": "code",
      "metadata": {
        "id": "ztB2UOHVTyaH",
        "colab": {
          "base_uri": "https://localhost:8080/",
          "height": 305
        },
        "outputId": "76f806d6-0327-4769-c602-2e04e2dcc28c"
      },
      "source": [
        "\n",
        "# Normalize the images.\n",
        "if NC == 1:\n",
        "    normalize = transforms.Normalize((0.5), (0.5))\n",
        "else:\n",
        "    normalize = transforms.Normalize((0.5, 0.5, 0.5), (0.5, 0.5, 0.5))\n",
        "\n",
        "# We can use an image folder dataset the way we have it setup.\n",
        "# Create the dataset\n",
        "transforms_to_apply = [\n",
        "                       transforms.ToTensor(), \n",
        "                       normalize,\n",
        "]\n",
        "\n",
        "dataset = dset.ImageFolder(root=dataroot, \n",
        "                           loader=image_loader, \n",
        "                           transform=transforms.Compose(transforms_to_apply)\n",
        ")\n",
        "\n",
        "print(f\"Found {len(dataset.imgs)} images in {dataroot}\")\n",
        "\n",
        "# Create the dataloader\n",
        "dataloader = torch.utils.data.DataLoader(dataset, \n",
        "                                         batch_size=BATCH_SIZE,\n",
        "                                         shuffle=True\n",
        ")\n",
        "\n",
        "# Decide which device we want to run on\n",
        "device = torch.device(\"cuda:0\" if (torch.cuda.is_available() and ngpu > 0) else \"cpu\")\n",
        "\n",
        "# Plot some training images\n",
        "real_batch = next(iter(dataloader))\n",
        "plt.figure(figsize=(8,8))\n",
        "plt.axis(\"off\")\n",
        "plt.title(\"Training Images\")\n",
        "plt.imshow(np.transpose(vutils.make_grid(real_batch[0].to(device)[:64], padding=5, normalize=True).cpu(),(1,2,0)))"
      ],
      "execution_count": 8,
      "outputs": [
        {
          "output_type": "stream",
          "text": [
            "Found 2031 images in /content/data/\n"
          ],
          "name": "stdout"
        },
        {
          "output_type": "execute_result",
          "data": {
            "text/plain": [
              "<matplotlib.image.AxesImage at 0x7ffb5226dc50>"
            ]
          },
          "metadata": {
            "tags": []
          },
          "execution_count": 8
        },
        {
          "output_type": "display_data",
          "data": {
            "image/png": "[encoded data removed]",
            "text/plain": [
              "<Figure size 576x576 with 1 Axes>"
            ]
          },
          "metadata": {
            "tags": [],
            "needs_background": "light"
          }
        }
      ]
    },
    {
      "cell_type": "markdown",
      "metadata": {
        "id": "9V_HQE5rK7Py"
      },
      "source": [
        "## Display Methods"
      ]
    },
    {
      "cell_type": "code",
      "metadata": {
        "id": "vPjZTMJOK9hB"
      },
      "source": [
        "def display_generated_images(tensor, limit):\n",
        "    images = []\n",
        "    limit if tensor.shape[0] > limit else tensor.shape[0]\n",
        "    for i in range(0, min(limit, BATCH_SIZE)):\n",
        "        image = tensor[i].detach().cpu().reshape(128, 128, 1)\n",
        "        images.append(image)\n",
        "        plt.axis(\"off\")\n",
        "        plt.imshow(image.reshape([128, 128]), cmap=\"gray\")\n",
        "        plt.show()\n",
        "    return images\n",
        "\n",
        "def create_display_grid(images):\n",
        "    grid_size = round(len(images) / 4)\n",
        "    f, axarr = plt.subplots(grid_size, grid_size)\n",
        "    \n",
        "    index = 0\n",
        "    for row in range(0, grid_size):\n",
        "        for col in range(0, grid_size):\n",
        "            if index <= len(images):\n",
        "                axarr[row,col].imshow(images[index], cmap=\"gray\")\n",
        "                axarr[row,col].axis('off')\n",
        "                index += 1\n",
        "    plt.tight_layout()\n",
        "    plt.show()\n",
        "    \n",
        "def convert_tensor_to_image(image, width, height):\n",
        "    # We multiply by 255, as the image is normalized 0-1.\n",
        "    image = Image.fromarray(image.detach().cpu().numpy().reshape([width, height]) * 255)\n",
        "    plt.imshow(image)\n",
        "    color_img = Image.new(\"RGB\", image.size)\n",
        "    color_img.paste(image)\n",
        "    return color_img\n",
        "    \n",
        "def convert_tensor_to_image(image, width, height):\n",
        "    image = Image.fromarray(image.detach().cpu().numpy().reshape([width, height]) * 255)\n",
        "    plt.imshow(image)\n",
        "    color_img = Image.new(\"RGB\", image.size)\n",
        "    color_img.paste(image)\n",
        "    return color_img\n"
      ],
      "execution_count": 9,
      "outputs": []
    },
    {
      "cell_type": "markdown",
      "metadata": {
        "id": "l2tNK3CFK_NK"
      },
      "source": [
        "## Models"
      ]
    },
    {
      "cell_type": "code",
      "metadata": {
        "id": "l1tdpShQLA_q",
        "colab": {
          "base_uri": "https://localhost:8080/"
        },
        "outputId": "7399b149-566d-43a0-af32-06a3369c4e3c"
      },
      "source": [
        "# custom weights initialization called on netG and netD\n",
        "def weights_init(m):\n",
        "    classname = m.__class__.__name__\n",
        "    if classname.find('Conv') != -1:\n",
        "        # nn.init.normal_(m.weight.data, 0.0, 0.02)\n",
        "        nn.init.xavier_uniform_(m.weight)\n",
        "    elif classname.find('BatchNorm') != -1:\n",
        "        nn.init.normal_(m.weight.data, 1.0, 0.02)\n",
        "        nn.init.constant_(m.bias.data, 0)\n",
        "        \n",
        "        \n",
        "# Generator Code\n",
        "class Generator(nn.Module):\n",
        "    def __init__(self, ngpu, dropout):\n",
        "        super(Generator, self).__init__()\n",
        "        self.ngpu = ngpu\n",
        "        self.dropout = dropout\n",
        "        self.main = nn.Sequential(\n",
        "            # input is Z, going into a convolution\n",
        "            nn.ConvTranspose2d(NZ, NGF * 16, 4, 1, 0, bias=False),\n",
        "            nn.BatchNorm2d(NGF * 16),\n",
        "            nn.Dropout2d(p=dropout),\n",
        "            nn.LeakyReLU(0.2, inplace=True),\n",
        "            # state size. (NGF*16) x 4 x 4\n",
        "            nn.ConvTranspose2d(NGF * 16, NGF * 8, 4, 2, 1, bias=False),\n",
        "            nn.BatchNorm2d(NGF * 8),\n",
        "            nn.LeakyReLU(0.2, inplace=True),\n",
        "            # state size. (NGF*8) x 8 x 8\n",
        "            nn.ConvTranspose2d(NGF * 8, NGF * 4, 4, 2, 1, bias=False),\n",
        "            nn.BatchNorm2d(NGF * 4),\n",
        "            nn.LeakyReLU(0.2, inplace=True),\n",
        "            # state size. (NGF*4) x 16 x 16 \n",
        "            nn.ConvTranspose2d(NGF * 4, NGF * 2, 4, 2, 1, bias=False),\n",
        "            nn.BatchNorm2d(NGF * 2),\n",
        "            nn.Dropout2d(p=dropout),\n",
        "            nn.LeakyReLU(0.2, inplace=True),\n",
        "            # state size. (NGF*2) x 32 x 32\n",
        "            nn.ConvTranspose2d(NGF * 2,     NGF, 4, 2, 1, bias=False),\n",
        "            nn.BatchNorm2d(NGF),\n",
        "            nn.LeakyReLU(0.2, inplace=True),\n",
        "            # state size. (NGF) x 64 x 64\n",
        "            nn.ConvTranspose2d(    NGF,      NC, 4, 2, 1, bias=False),\n",
        "            nn.Tanh()\n",
        "            # state size. (NC) x 128 x 128\n",
        "        )\n",
        "\n",
        "    def forward(self, input):\n",
        "        return self.main(input)\n",
        "    \n",
        "    \n",
        "# Create the generator\n",
        "netG = Generator(ngpu, G_DROPOUT).to(device)\n",
        "\n",
        "# Handle multi-gpu if desired\n",
        "if (device.type == 'cuda') and (ngpu > 1):\n",
        "    netG = nn.DataParallel(netG, list(range(ngpu)))\n",
        "\n",
        "# Apply the weights_init function to randomly initialize all weights\n",
        "#  to mean=0, stdev=0.2.\n",
        "netG.apply(weights_init)\n",
        "\n",
        "# Load Model\n",
        "# TODO:\n",
        "\n",
        "# Print the model\n",
        "print(netG)\n",
        "\n",
        "\n",
        "class Discriminator(nn.Module):\n",
        "    def __init__(self, ngpu, dropout):\n",
        "        super(Discriminator, self).__init__()\n",
        "        self.ngpu = ngpu\n",
        "        self.kernel_size = 2\n",
        "        \n",
        "        self.output_0 = 32\n",
        "        self.output_1 = 64\n",
        "        self.output_2 = 128\n",
        "        self.output_3 = 256\n",
        "        self.output_4 = 1\n",
        "\n",
        "        self.input_1 = self.output_0\n",
        "        self.input_2 = self.output_1\n",
        "        self.input_3 = self.output_2\n",
        "        self.input_4 = self.output_3\n",
        "        \n",
        "        self.stride_0 = 3\n",
        "        self.stride_1 = 3\n",
        "        self.stride_2 = 2\n",
        "        self.stride_3 = 2\n",
        "        self.stride_4 = 2\n",
        "        \n",
        "        self.padding_0 = 1\n",
        "        self.padding_1 = 1\n",
        "        self.padding_2 = 1\n",
        "        self.padding_3 = 1\n",
        "        self.padding_4 = 1\n",
        "        \n",
        "        self.main = nn.Sequential(\n",
        "\n",
        "            # input is (NC) x 128 x 128\n",
        "            nn.Conv2d(NC, NDF, 4, stride=2, padding=1, bias=False), \n",
        "            nn.LeakyReLU(0.2, inplace=True),\n",
        "            # state size. (NDF) x 64 x 64\n",
        "            nn.Conv2d(NDF, NDF * 2, 4, stride=2, padding=1, bias=False),\n",
        "            nn.BatchNorm2d(NDF * 2),\n",
        "            nn.LeakyReLU(0.2, inplace=True),\n",
        "            # state size. (NDF*2) x 32 x 32\n",
        "            nn.Conv2d(NDF * 2, NDF * 4, 4, stride=2, padding=1, bias=False),\n",
        "            nn.BatchNorm2d(NDF * 4),\n",
        "            nn.LeakyReLU(0.2, inplace=True),\n",
        "            # state size. (NDF*4) x 16 x 16 \n",
        "            nn.Conv2d(NDF * 4, NDF * 8, 4, stride=2, padding=1, bias=False),\n",
        "            nn.BatchNorm2d(NDF * 8),\n",
        "            nn.LeakyReLU(0.2, inplace=True),\n",
        "            # state size. (NDF*8) x 8 x 8\n",
        "            nn.Conv2d(NDF * 8, NDF * 16, 4, stride=2, padding=1, bias=False),\n",
        "            nn.BatchNorm2d(NDF * 16),\n",
        "            nn.LeakyReLU(0.2, inplace=True),\n",
        "            # state size. (NDF*16) x 4 x 4\n",
        "            nn.Conv2d(NDF * 16, 1, 4, stride=1, padding=0, bias=False),\n",
        "            nn.Sigmoid()\n",
        "        )\n",
        "\n",
        "    def forward(self, input):\n",
        "        return self.main(input)\n",
        "    \n",
        "    \n",
        "# Create the Discriminator\n",
        "netD = Discriminator(ngpu, D_DROPOUT).to(device)\n",
        "\n",
        "# Handle multi-gpu if desired\n",
        "if (device.type == 'cuda') and (ngpu > 1):\n",
        "    netD = nn.DataParallel(netD, list(range(ngpu)))\n",
        "\n",
        "# Apply the weights_init function to randomly initialize all weights\n",
        "#  to mean=0, stdev=0.2.\n",
        "netD.apply(weights_init)\n",
        "\n",
        "# Print the model\n",
        "print(netD)"
      ],
      "execution_count": 10,
      "outputs": [
        {
          "output_type": "stream",
          "text": [
            "Generator(\n",
            "  (main): Sequential(\n",
            "    (0): ConvTranspose2d(25, 4800, kernel_size=(4, 4), stride=(1, 1), bias=False)\n",
            "    (1): BatchNorm2d(4800, eps=1e-05, momentum=0.1, affine=True, track_running_stats=True)\n",
            "    (2): Dropout2d(p=0.0, inplace=False)\n",
            "    (3): LeakyReLU(negative_slope=0.2, inplace=True)\n",
            "    (4): ConvTranspose2d(4800, 2400, kernel_size=(4, 4), stride=(2, 2), padding=(1, 1), bias=False)\n",
            "    (5): BatchNorm2d(2400, eps=1e-05, momentum=0.1, affine=True, track_running_stats=True)\n",
            "    (6): LeakyReLU(negative_slope=0.2, inplace=True)\n",
            "    (7): ConvTranspose2d(2400, 1200, kernel_size=(4, 4), stride=(2, 2), padding=(1, 1), bias=False)\n",
            "    (8): BatchNorm2d(1200, eps=1e-05, momentum=0.1, affine=True, track_running_stats=True)\n",
            "    (9): LeakyReLU(negative_slope=0.2, inplace=True)\n",
            "    (10): ConvTranspose2d(1200, 600, kernel_size=(4, 4), stride=(2, 2), padding=(1, 1), bias=False)\n",
            "    (11): BatchNorm2d(600, eps=1e-05, momentum=0.1, affine=True, track_running_stats=True)\n",
            "    (12): Dropout2d(p=0.0, inplace=False)\n",
            "    (13): LeakyReLU(negative_slope=0.2, inplace=True)\n",
            "    (14): ConvTranspose2d(600, 300, kernel_size=(4, 4), stride=(2, 2), padding=(1, 1), bias=False)\n",
            "    (15): BatchNorm2d(300, eps=1e-05, momentum=0.1, affine=True, track_running_stats=True)\n",
            "    (16): LeakyReLU(negative_slope=0.2, inplace=True)\n",
            "    (17): ConvTranspose2d(300, 1, kernel_size=(4, 4), stride=(2, 2), padding=(1, 1), bias=False)\n",
            "    (18): Tanh()\n",
            "  )\n",
            ")\n",
            "Discriminator(\n",
            "  (main): Sequential(\n",
            "    (0): Conv2d(1, 300, kernel_size=(4, 4), stride=(2, 2), padding=(1, 1), bias=False)\n",
            "    (1): LeakyReLU(negative_slope=0.2, inplace=True)\n",
            "    (2): Conv2d(300, 600, kernel_size=(4, 4), stride=(2, 2), padding=(1, 1), bias=False)\n",
            "    (3): BatchNorm2d(600, eps=1e-05, momentum=0.1, affine=True, track_running_stats=True)\n",
            "    (4): LeakyReLU(negative_slope=0.2, inplace=True)\n",
            "    (5): Conv2d(600, 1200, kernel_size=(4, 4), stride=(2, 2), padding=(1, 1), bias=False)\n",
            "    (6): BatchNorm2d(1200, eps=1e-05, momentum=0.1, affine=True, track_running_stats=True)\n",
            "    (7): LeakyReLU(negative_slope=0.2, inplace=True)\n",
            "    (8): Conv2d(1200, 2400, kernel_size=(4, 4), stride=(2, 2), padding=(1, 1), bias=False)\n",
            "    (9): BatchNorm2d(2400, eps=1e-05, momentum=0.1, affine=True, track_running_stats=True)\n",
            "    (10): LeakyReLU(negative_slope=0.2, inplace=True)\n",
            "    (11): Conv2d(2400, 4800, kernel_size=(4, 4), stride=(2, 2), padding=(1, 1), bias=False)\n",
            "    (12): BatchNorm2d(4800, eps=1e-05, momentum=0.1, affine=True, track_running_stats=True)\n",
            "    (13): LeakyReLU(negative_slope=0.2, inplace=True)\n",
            "    (14): Conv2d(4800, 1, kernel_size=(4, 4), stride=(1, 1), bias=False)\n",
            "    (15): Sigmoid()\n",
            "  )\n",
            ")\n"
          ],
          "name": "stdout"
        }
      ]
    },
    {
      "cell_type": "code",
      "metadata": {
        "id": "d5TK6w0rLEKa"
      },
      "source": [
        "# Log metrics with wandb\n",
        "wandb.watch([netG, netD])\n",
        "\n",
        "# Initialize BCELoss function\n",
        "criterion = nn.BCELoss(reduction=\"mean\")\n",
        "\n",
        "# Create batch of latent vectors that we will use to visualize\n",
        "#  the progression of the generator\n",
        "fixed_noise = torch.randn(IMAGE_SIZE, NZ, 1, 1, device=device)\n",
        "\n",
        "# Setup Adam optimizers for both G and D\n",
        "optimizerD = optim.Adam(netD.parameters(), lr=lr, betas=(beta1, 0.999))\n",
        "optimizerG = optim.Adam(netG.parameters(), lr=lr, betas=(beta1, 0.999))\n",
        "\n",
        "\n",
        "# Training Loop\n",
        "\n",
        "# Lists to keep track of progress\n",
        "img_list = []\n",
        "G_losses = []\n",
        "D_losses = []\n",
        "iters = 0\n"
      ],
      "execution_count": 11,
      "outputs": []
    },
    {
      "cell_type": "markdown",
      "metadata": {
        "id": "s4HP-yQhlwIz"
      },
      "source": [
        "# Continue Training"
      ]
    },
    {
      "cell_type": "code",
      "metadata": {
        "id": "tPDS1G1iQgPt",
        "colab": {
          "base_uri": "https://localhost:8080/",
          "height": 35
        },
        "outputId": "c9cdbfe5-0d55-4b31-88bb-d4f5aac3f17d"
      },
      "source": [
        "model_path_to_load = f\"{MODEL_DIR}{wandb.run.id}/deep_arcane.model\"\n",
        "model_path_to_load"
      ],
      "execution_count": 12,
      "outputs": [
        {
          "output_type": "execute_result",
          "data": {
            "application/vnd.google.colaboratory.intrinsic+json": {
              "type": "string"
            },
            "text/plain": [
              "'/content/gdrive/MyDrive/dl_models/deep_arcane_models/3ewmebh2/deep_arcane.model'"
            ]
          },
          "metadata": {
            "tags": []
          },
          "execution_count": 12
        }
      ]
    },
    {
      "cell_type": "code",
      "metadata": {
        "id": "vmF8HcYkl0JI"
      },
      "source": [
        "if wandb.run.resumed:\n",
        "    checkpoint = torch.load(model_path_to_load)\n",
        "\n",
        "    netG.load_state_dict(checkpoint[\"generator\"])\n",
        "    netD.load_state_dict(checkpoint[\"discriminator\"])\n",
        "    optimizerG.load_state_dict(checkpoint[\"generator_optimizer\"])\n",
        "    optimizerD.load_state_dict(checkpoint[\"discriminator_optimizer\"])\n",
        "\n",
        "    EPOCHS += checkpoint[\"epoch\"]\n",
        "    starting_epoch = checkpoint[\"epoch\"]\n",
        "\n",
        "    del checkpoint"
      ],
      "execution_count": 13,
      "outputs": []
    },
    {
      "cell_type": "markdown",
      "metadata": {
        "id": "CFKgAa1iSp_J"
      },
      "source": [
        "## Train Model"
      ]
    },
    {
      "cell_type": "code",
      "metadata": {
        "id": "Ig_CCJ9KSr8O",
        "colab": {
          "base_uri": "https://localhost:8080/"
        },
        "outputId": "4abe75b0-3dbe-4ea3-aa2b-edd8168da12f"
      },
      "source": [
        "lowest_D_G_z2 = 99999\n",
        "\n",
        "print(\"Starting Training Loop...\")\n",
        "# For each epoch\n",
        "for epoch in range(starting_epoch, EPOCHS):\n",
        "    # For each batch in the dataloader\n",
        "    for i, data in enumerate(dataloader, 0):\n",
        "        \n",
        "        \n",
        "        # Smooth labels.\n",
        "        real_label = random.uniform(real_range[0], real_range[1])\n",
        "        fake_label = random.uniform(fake_range[0], fake_range[1])\n",
        "\n",
        "        ############################\n",
        "        # (1) Update D network: maximize log(D(x)) + log(1 - D(G(z)))\n",
        "        ###########################\n",
        "        ## Train with all-real batch\n",
        "        netD.zero_grad()\n",
        "        # Format batch\n",
        "        real_cpu = data[0].to(device)\n",
        "        b_size = real_cpu.size(0)\n",
        "        label = torch.full((b_size,), real_label, dtype=torch.float, device=device)\n",
        "        # Forward pass real batch through D\n",
        "        output = netD(real_cpu).view(-1)\n",
        "        # Calculate loss on all-real batch\n",
        "        errD_real = criterion(output, label)\n",
        "        \n",
        "        # Calculate gradients for D in backward pass\n",
        "        errD_real.backward()\n",
        "        D_x = output.mean().item()\n",
        "\n",
        "        ## Train th all-fake batch\n",
        "        # Generate batch of latent vectors\n",
        "        noise = torch.randn(b_size, NZ, 1, 1, device=device)\n",
        "        # Generate fake image batch with G\n",
        "        fake = netG(noise)\n",
        "        label.fill_(fake_label)\n",
        "        # Classify all fake batch with D\n",
        "        output = netD(fake.detach()).view(-1)\n",
        "        # Calculate D's loss on the all-fake batch\n",
        "        errD_fake = criterion(output, label)\n",
        "        # Calculate the gradients for this batch\n",
        "        errD_fake.backward()\n",
        "        D_G_z1 = output.mean().item()\n",
        "        # Add the gradients from the all-real and all-fake batches\n",
        "        errD = errD_real + errD_fake\n",
        "        # Update D\n",
        "        optimizerD.step()\n",
        "\n",
        "        ############################\n",
        "        # (2) Update G network: maximize log(D(G(z)))\n",
        "        ###########################\n",
        "        netG.zero_grad()\n",
        "        label.fill_(real_label)  # fake labels are real for generator cost\n",
        "        # Since we just updated D, perform another forward pass of all-fake batch through D\n",
        "        output = netD(fake).view(-1)\n",
        "        # Calculate G's loss based on this output\n",
        "        errG = criterion(output, label)\n",
        "        # Calculate gradients for G\n",
        "        errG.backward()\n",
        "        D_G_z2 = output.mean().item()\n",
        "        # Update G\n",
        "        optimizerG.step()\n",
        "\n",
        "        # Output training stats\n",
        "        if i % 50 == 0:\n",
        "            print('[%d/%d][%d/%d]\\tLoss_D: %.4f\\tLoss_G: %.4f\\tD(x): %.4f\\tD(G(z)): %.4f / %.4f'\n",
        "                  % (epoch, EPOCHS, i, len(dataloader),\n",
        "                      errD.item(), errG.item(), D_x, D_G_z1, D_G_z2))\n",
        "            wandb.log({\"epoch\": epoch, \"D_x\": D_x, \"D_G_z1\": D_G_z1, \"D_G_z2\": D_G_z2})\n",
        "            \n",
        "\n",
        "        # Save Losses for plotting later\n",
        "        G_losses.append(errG.item())\n",
        "        D_losses.append(errD.item())\n",
        "        \n",
        "    if epoch > EPOCH_TO_START_SAVING and epoch % save_every == 0:\n",
        "        lowest_D_G_z2 = D_G_z2\n",
        "        print(\"Saving model.\")\n",
        "        save_model(model_path, netG, netD, optimizerG, optimizerD, epoch, criterion)\n",
        "\n",
        "        noise = torch.randn(BATCH_SIZE, NZ, 1, 1, device=device)\n",
        "        generated_images = netG(noise)\n",
        "        images = display_generated_images(generated_images, samples)\n",
        "        pil_images = [convert_tensor_to_image(image, IMAGE_SIZE, IMAGE_SIZE) for image in images]       \n",
        "        wandb.log({\"example\": [wandb.Image(img) for img in pil_images]})\n"
      ],
      "execution_count": null,
      "outputs": [
        {
          "output_type": "stream",
          "text": [
            "Starting Training Loop...\n",
            "[67/6067][0/64]\tLoss_D: 2.1947\tLoss_G: 4.8145\tD(x): 0.3880\tD(G(z)): 0.0040 / 0.1534\n"
          ],
          "name": "stdout"
        }
      ]
    },
    {
      "cell_type": "markdown",
      "metadata": {
        "id": "R2RUDY2Qkqb_"
      },
      "source": [
        "# Save Model"
      ]
    },
    {
      "cell_type": "code",
      "metadata": {
        "id": "eNzu5A5xjxwe"
      },
      "source": [
        "save_model(model_path, netG, netD, optimizerG, optimizerD, EPOCHS, criterion)"
      ],
      "execution_count": null,
      "outputs": []
    },
    {
      "cell_type": "code",
      "metadata": {
        "id": "BrsHjvx2NE5X"
      },
      "source": [
        ""
      ],
      "execution_count": null,
      "outputs": []
    }
  ]
}